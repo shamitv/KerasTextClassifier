{
 "cells": [
  {
   "cell_type": "code",
   "execution_count": 5,
   "metadata": {},
   "outputs": [],
   "source": [
    "import numpy as np\n",
    "import re\n",
    "import json\n",
    "import random\n",
    "import sys\n",
    "sys.path.append(\"../../\")\n",
    "from yelp_sentiment_attention.train import *\n",
    "from yelp_multiclass.data.yelp_dataset import load_word_indices\n",
    "\n",
    "from yelp_multiclass.data.textProcess import createTextSent,tokenizeText,buildIndexToWordDict,createNumericSent"
   ]
  },
  {
   "cell_type": "markdown",
   "metadata": {},
   "source": [
    "## Restore trained model from file"
   ]
  },
  {
   "cell_type": "code",
   "execution_count": 6,
   "metadata": {},
   "outputs": [
    {
     "name": "stdout",
     "output_type": "stream",
     "text": [
      "2018-07-13 22:31:29,464 - Yelp_Review_Processor - INFO - Reading Vocab\n",
      "2018-07-13 22:31:31,167 - Yelp_Review_Processor - INFO - Done\n"
     ]
    }
   ],
   "source": [
    "log.info('Reading Vocab')\n",
    "word_index = load_word_indices()\n",
    "index_word = buildIndexToWordDict(word_index)\n",
    "log.info('Done')"
   ]
  },
  {
   "cell_type": "markdown",
   "metadata": {},
   "source": [
    "## Pre-process reviews"
   ]
  },
  {
   "cell_type": "code",
   "execution_count": 24,
   "metadata": {},
   "outputs": [
    {
     "name": "stdout",
     "output_type": "stream",
     "text": [
      " pretty amazing stuff going on here let me start off by saying there's literally a tub, a tub, of pickles on :UNK: self serve counter yup so thanks for that, pearl i had a mini deluxe mushroom cheeseburger and it was beautiful i didn't take a picture because i lack :UNK: self-control to wait a few more seconds i also inhaled :UNK: :UNK: (sweet :UNK: they were cooked to perfection, extra crispy it's a tiny location, so that might interfere with dining in to enjoy your fresh meal i would recommend to try planning your visit around a less busy time of day honestly, i may not even consider my own words because i have no idea if/when i'd be back  :PAD: :PAD: :PAD: :PAD: :PAD: :PAD: :PAD: :PAD: :PAD: :PAD: :PAD: :PAD: :PAD: :PAD: :PAD: :PAD: :PAD: :PAD: :PAD: :PAD: :PAD: :PAD: :PAD: :PAD: :PAD: :PAD: :PAD: :PAD: :PAD: :PAD: :PAD: :PAD: :PAD: :PAD: :PAD: :PAD: :PAD: :PAD: :PAD: :PAD: :PAD: :PAD: :PAD: :PAD: :PAD: :PAD: :PAD: :PAD: :PAD: :PAD: :PAD: :PAD: :PAD: :PAD: :PAD: :PAD: :PAD: :PAD: :PAD: :PAD: :PAD: :PAD: :PAD: :PAD: :PAD: :PAD: :PAD: :PAD: :PAD: :PAD: :PAD: :PAD: :PAD: :PAD: :PAD: :PAD: :PAD: :PAD: :PAD: :PAD: :PAD: :PAD: :PAD: :PAD: :PAD: :PAD: :PAD: :PAD: :PAD: :PAD: :PAD: :PAD: :PAD: :PAD: :PAD: :PAD: :PAD: :PAD: :PAD: :PAD: :PAD: :PAD: :PAD: :PAD: :PAD: :PAD: :PAD: :PAD: :PAD: :PAD: :PAD: :PAD: :PAD: :PAD: :PAD: :PAD: :PAD: :PAD: :PAD: :PAD: :PAD: :PAD: :PAD: :PAD: :PAD: :PAD: :PAD: :PAD:\n",
      " ordered a mexican chicken shwarma so salty like soooo salty thats it i still cant wash :UNK: salt off my tongue how is this place rated so high i got tricked :UNK: like cringey right now i threw it god awful ps: packaging was so good i was like yeah this will be great took two bites and i threw it also i hate wasting food so imagine me throwing it it was so salty i just couldnt eat anymore hangry as hell  :PAD: :PAD: :PAD: :PAD: :PAD: :PAD: :PAD: :PAD: :PAD: :PAD: :PAD: :PAD: :PAD: :PAD: :PAD: :PAD: :PAD: :PAD: :PAD: :PAD: :PAD: :PAD: :PAD: :PAD: :PAD: :PAD: :PAD: :PAD: :PAD: :PAD: :PAD: :PAD: :PAD: :PAD: :PAD: :PAD: :PAD: :PAD: :PAD: :PAD: :PAD: :PAD: :PAD: :PAD: :PAD: :PAD: :PAD: :PAD: :PAD: :PAD: :PAD: :PAD: :PAD: :PAD: :PAD: :PAD: :PAD: :PAD: :PAD: :PAD: :PAD: :PAD: :PAD: :PAD: :PAD: :PAD: :PAD: :PAD: :PAD: :PAD: :PAD: :PAD: :PAD: :PAD: :PAD: :PAD: :PAD: :PAD: :PAD: :PAD: :PAD: :PAD: :PAD: :PAD: :PAD: :PAD: :PAD: :PAD: :PAD: :PAD: :PAD: :PAD: :PAD: :PAD: :PAD: :PAD: :PAD: :PAD: :PAD: :PAD: :PAD: :PAD: :PAD: :PAD: :PAD: :PAD: :PAD: :PAD: :PAD: :PAD: :PAD: :PAD: :PAD: :PAD: :PAD: :PAD: :PAD: :PAD: :PAD: :PAD: :PAD: :PAD: :PAD: :PAD: :PAD: :PAD: :PAD: :PAD: :PAD: :PAD: :PAD: :PAD: :PAD: :PAD: :PAD: :PAD: :PAD: :PAD: :PAD: :PAD: :PAD: :PAD: :PAD: :PAD: :PAD: :PAD: :PAD: :PAD: :PAD: :PAD: :PAD: :PAD: :PAD: :PAD: :PAD: :PAD: :PAD: :PAD: :PAD: :PAD: :PAD: :PAD: :PAD: :PAD: :PAD: :PAD:\n",
      " qureshi bistro :UNK: from :UNK: famous :UNK: house led by :UNK: here comes their extended brand by :UNK: name qureshi indo arabic bistro it sits in one of :UNK: most competitive lanes of :UNK: and serves cuisines from :UNK: :UNK: european to middle eastern ambience wise, they have two set ups for quiet meets, indoors suits well with quirky wall arts and well lit whereas for a chilled out feel with bustling sounds of things around you, outdoors will be perfect staff was well knowledgeable about dishes served upon ordering and courteous too things i had mocktails - pineapple mojito (rating 3/5) and tamarind margarita (rating 4/5) :UNK: refreshing drinks to start with where tamarind had very strong yet appealing taste with spiciness, some hints of guava and delight to drink :UNK: mojito was slightly over powered by :UNK: innit i certainly recommend tamarind margarita for :UNK: next visit :UNK: kebab (rating 4/5) :UNK: it may look like a pretty average dish though made as breast chicken in outer layer and minced chicken kebab with hints of cheese had enough spices punch in :UNK: marinade though it were bit dry than usual rest all was perfect  :PAD: :PAD: :PAD: :PAD: :PAD: :PAD: :PAD: :PAD: :PAD: :PAD: :PAD: :PAD: :PAD: :PAD: :PAD: :PAD: :PAD: :PAD: :PAD: :PAD: :PAD: :PAD: :PAD: :PAD: :PAD: :PAD: :PAD: :PAD: :PAD: :PAD: :PAD: :PAD: :PAD: :PAD: :PAD: :PAD: :PAD: :PAD: :PAD: :PAD: :PAD: :PAD: :PAD: :PAD: :PAD: :PAD: :PAD: :PAD: :PAD: :PAD: :PAD: :PAD: :PAD:\n"
     ]
    }
   ],
   "source": [
    "reviews=[\n",
    "    '''Pretty amazing stuff going on here.\n",
    "\n",
    "Let me start off by saying there's literally a tub, A TUB, of pickles on the self serve counter.  YUP.  So thanks for that, Pearl.\n",
    "\n",
    "I had a mini deluxe mushroom cheeseburger and it was beautiful.  I didn't take a picture because I lack the self-control to wait a few more seconds.  I also inhaled the spries (sweet potato/fries).  They were cooked to perfection, extra crispy!\n",
    "\n",
    "It's a tiny location, so that might interfere with dining in to enjoy your fresh meal.  I would recommend to try planning your visit around a less busy time of day.  Honestly, I may not even consider my own words because I have no idea if/when I'd be back.'''\n",
    "    ,\n",
    "    '''Ordered a Mexican Chicken shwarma. So salty! Like soooo salty! Thats it! I still cant wash the salt off my tongue. How is this place rated so High. I got tricked.\n",
    "\n",
    "I’m like cringey right now.\n",
    "\n",
    "I threw it.\n",
    "\n",
    "God awful.\n",
    "\n",
    "Ps: packaging was so good I was like yeah. This will be great\n",
    "Took two bites And I threw it.\n",
    "\n",
    "Also I hate wasting food so imagine me throwing it. It was so salty. I just couldnt eat anymore.\n",
    "\n",
    "Hangry as hell. \n",
    "    ''',\n",
    "    '''Qureshi Bistro – From the famous Kakori house led by Qureshi’s here comes their extended brand by the name Qureshi Indo Arabic Bistro. It sits in one of the most competitive lanes of Oshiwara and serves cuisines from Lucknowi, Mughlai, European to Middle Eastern. Ambience wise, they have two set ups for quiet meets, indoors suits well with quirky wall arts and well lit whereas for a chilled out feel with bustling sounds of things around you, outdoors will be perfect. Staff was well knowledgeable about dishes served upon ordering and courteous too.\n",
    "\n",
    "Things I had\n",
    "\n",
    "Mocktails - Pineapple mojito (Rating 3/5) and tamarind margarita (Rating 4/5) – Refreshing drinks to start with where tamarind had very strong yet appealing taste with spiciness, some hints of guava and delight to drink the mojito was slightly over powered by sugar/sweetness innit. I certainly recommend tamarind margarita for the next visit.\n",
    "\n",
    "Rosali Kebab (Rating 4/5) – It may look like a pretty average dish though made as breast chicken in outer layer and minced chicken kebab with hints of cheese had enough spices punch in the marinade. Though it were bit dry than usual rest all was perfect.'''\n",
    "]\n",
    "\n",
    "rev_numeric=[]\n",
    "\n",
    "for r in reviews:\n",
    "    r_n=createNumericSent(r,word_index)\n",
    "    temp=[1] #1 denotes start of sentence\n",
    "    temp.extend(r_n)\n",
    "    rn=temp\n",
    "    rev_numeric.append(r_n)\n",
    "    #print(createTextSent(r_n,index_word))\n",
    "\n",
    "X_input = zero_pad(rev_numeric, SEQUENCE_LENGTH)\n",
    "\n",
    "for r in X_input:\n",
    "    print(createTextSent(r,index_word))\n",
    "\n"
   ]
  },
  {
   "cell_type": "code",
   "execution_count": null,
   "metadata": {},
   "outputs": [],
   "source": []
  },
  {
   "cell_type": "code",
   "execution_count": 25,
   "metadata": {},
   "outputs": [
    {
     "name": "stdout",
     "output_type": "stream",
     "text": [
      "2018-07-13 22:52:27,655 - Yelp_Review_Processor - INFO - Restorng saved model\n",
      "INFO:tensorflow:Restoring parameters from G:\\work\\nlp\\datasets\\yelp\\attention\\model\\\n",
      "2018-07-13 22:52:27,727 - tensorflow - INFO - Restoring parameters from G:\\work\\nlp\\datasets\\yelp\\attention\\model\\\n"
     ]
    }
   ],
   "source": [
    "saver = tf.train.Saver()\n",
    "\n",
    "log.info('Restorng saved model')\n",
    "\n",
    "with tf.Session() as sess:\n",
    "    saver.restore(sess, MODEL_PATH)\n",
    "    y_batch_test = np.repeat(0,len(X_input)) \n",
    "    seq_len_test = np.array([list(x).index(0) + 1 for x in X_input])\n",
    "    results = sess.run([alphas,y_hat], feed_dict={batch_ph: X_input, target_ph: y_batch_test,\n",
    "                                                seq_len_ph: seq_len_test, keep_prob_ph: 1.0})"
   ]
  },
  {
   "cell_type": "markdown",
   "metadata": {},
   "source": [
    "## Read Vocab from disk"
   ]
  },
  {
   "cell_type": "markdown",
   "metadata": {},
   "source": [
    "## Read results from model and generate file"
   ]
  },
  {
   "cell_type": "code",
   "execution_count": 30,
   "metadata": {},
   "outputs": [
    {
     "name": "stdout",
     "output_type": "stream",
     "text": [
      "0\n",
      "-0.91714036\n",
      "0\n",
      "1.0265259\n",
      "0\n",
      "-2.0139637\n",
      "Working director is K:\\python_projects\\KerasTextClassifier\\yelp_sentiment_attention\\test\n"
     ]
    }
   ],
   "source": [
    "alphas_values = results[0][0]\n",
    "filename=\"visualization3.html\"\n",
    "with open(filename, \"w\") as html_file:\n",
    "    for X,alpha_values,Y_hat,Y in zip(X_input,results[0],results[1],y_batch_test ) :\n",
    "        print(Y)\n",
    "        print(Y_hat)\n",
    "        html_file.write(\"<br/><hr/>\");\n",
    "        sample = X\n",
    "        words = list(map(index_word.get, sample))\n",
    "        html_file.write('%s  %s\\n' % (Y, Y_hat));\n",
    "        if Y_hat > 0:\n",
    "            div_color='#b8efc8'\n",
    "        else:\n",
    "            div_color = '#ff848a'\n",
    "        html_file.write('<div style=\"background-color:%s\">\\n' % div_color);\n",
    "        for word, alpha in zip(words, alphas_values / alphas_values.max()):\n",
    "            if word == \":START:\":\n",
    "                continue\n",
    "            elif word == \":PAD:\":\n",
    "                break\n",
    "            html_file.write('<font style=\"background: rgba(255, 255, 0, %f)\">%s</font>\\n' % (alpha, word))\n",
    "        html_file.write('</div>\\n');\n",
    "print('Working director is ' +  os.getcwd())"
   ]
  },
  {
   "cell_type": "code",
   "execution_count": null,
   "metadata": {},
   "outputs": [],
   "source": []
  }
 ],
 "metadata": {
  "kernelspec": {
   "display_name": "Python 3",
   "language": "python",
   "name": "python3"
  },
  "language_info": {
   "codemirror_mode": {
    "name": "ipython",
    "version": 3
   },
   "file_extension": ".py",
   "mimetype": "text/x-python",
   "name": "python",
   "nbconvert_exporter": "python",
   "pygments_lexer": "ipython3",
   "version": "3.6.4"
  }
 },
 "nbformat": 4,
 "nbformat_minor": 1
}
