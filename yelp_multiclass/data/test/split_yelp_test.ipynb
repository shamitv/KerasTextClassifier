{
 "cells": [
  {
   "cell_type": "code",
   "execution_count": 1,
   "metadata": {},
   "outputs": [],
   "source": [
    "import numpy as np\n",
    "import re\n",
    "import json\n",
    "import random\n",
    "import sys\n",
    "sys.path.append(\"../../../\")\n",
    "from yelp_multiclass.data.config import getDataFile,getJsonFile,getSentenceDir,getYelpJsonFile\n",
    "from yelp_multiclass.data.SentencesClasses import getStarRating,getOneHotClass\n",
    "from collections import OrderedDict\n",
    "import matplotlib.pyplot as plt\n"
   ]
  },
  {
   "cell_type": "markdown",
   "metadata": {},
   "source": [
    "## Setup log configuration"
   ]
  },
  {
   "cell_type": "code",
   "execution_count": 2,
   "metadata": {},
   "outputs": [],
   "source": [
    "import logging\n",
    "import sys\n",
    "\n",
    "root = logging.getLogger()\n",
    "root.setLevel(logging.DEBUG)\n",
    "\n",
    "ch = logging.StreamHandler(sys.stdout)\n",
    "ch.setLevel(logging.DEBUG)\n",
    "formatter = logging.Formatter('%(asctime)s - %(name)s - %(levelname)s - %(message)s')\n",
    "ch.setFormatter(formatter)\n",
    "root.addHandler(ch)\n",
    "\n",
    "log = logging.getLogger('Yelp_Review_Processor')\n",
    "log.setLevel(logging.DEBUG)\n"
   ]
  },
  {
   "cell_type": "markdown",
   "metadata": {},
   "source": [
    "## Load Reviews from Yelp JSON\n"
   ]
  },
  {
   "cell_type": "code",
   "execution_count": 3,
   "metadata": {},
   "outputs": [
    {
     "name": "stdout",
     "output_type": "stream",
     "text": [
      "2018-07-12 21:53:05,763 - Yelp_Review_Processor - INFO - Processing F:\\nlp\\yelp\\dataset\\source\\review_round11.json\n"
     ]
    }
   ],
   "source": [
    "json_path=getYelpJsonFile()\n",
    "\n",
    "log.info(\"Processing \"+json_path)\n",
    "\n",
    "reviews={\"1\":[],\"2\":[],\"3\":[],\"4\":[],\"5\":[]}\n",
    "\n",
    "with open(json_path,\"r\", encoding=\"utf-8\") as f:\n",
    "    for line in f:\n",
    "        j=json.loads(line)\n",
    "        review_list=reviews[str(j[\"stars\"])]\n",
    "        review_list.append(j[\"text\"])"
   ]
  },
  {
   "cell_type": "code",
   "execution_count": 4,
   "metadata": {},
   "outputs": [
    {
     "name": "stdout",
     "output_type": "stream",
     "text": [
      "2018-07-12 21:53:48,390 - Yelp_Review_Processor - INFO - Parsed F:\\nlp\\yelp\\dataset\\source\\review_round11.json\n"
     ]
    }
   ],
   "source": [
    "log.info(\"Parsed \"+json_path)"
   ]
  },
  {
   "cell_type": "markdown",
   "metadata": {},
   "source": [
    "## Plot distribution of reviews"
   ]
  },
  {
   "cell_type": "code",
   "execution_count": 5,
   "metadata": {},
   "outputs": [
    {
     "data": {
      "text/plain": [
       "<BarContainer object of 5 artists>"
      ]
     },
     "execution_count": 5,
     "metadata": {},
     "output_type": "execute_result"
    },
    {
     "name": "stdout",
     "output_type": "stream",
     "text": [
      "2018-07-12 21:53:48,622 - matplotlib.font_manager - DEBUG - findfont: Matching :family=sans-serif:style=normal:variant=normal:weight=normal:stretch=normal:size=10.0 to DejaVu Sans ('C:\\\\Python\\\\Python36\\\\lib\\\\site-packages\\\\matplotlib\\\\mpl-data\\\\fonts\\\\ttf\\\\DejaVuSans.ttf') with score of 0.050000\n"
     ]
    },
    {
     "data": {
      "image/png": "[encoded data removed]",
      "text/plain": [
       "<Figure size 432x288 with 1 Axes>"
      ]
     },
     "metadata": {},
     "output_type": "display_data"
    }
   ],
   "source": [
    "plt.bar([1,2,3,4,5],[len(reviews[\"1\"]),len(reviews[\"2\"]),len(reviews[\"3\"]),len(reviews[\"4\"]),len(reviews[\"5\"])])"
   ]
  },
  {
   "cell_type": "markdown",
   "metadata": {},
   "source": [
    "# # Concat reviews, 1 & 2 star reviews are negative. 4 & 5 star reviews are positive"
   ]
  },
  {
   "cell_type": "code",
   "execution_count": 6,
   "metadata": {},
   "outputs": [],
   "source": [
    "negative_reviews= reviews[\"1\"]+reviews[\"2\"]\n",
    "positive_reviews= reviews[\"4\"]+reviews[\"5\"]\n",
    "\n",
    "min_reviews=min(len(negative_reviews),len(positive_reviews))\n",
    "\n"
   ]
  },
  {
   "cell_type": "code",
   "execution_count": 7,
   "metadata": {},
   "outputs": [
    {
     "name": "stdout",
     "output_type": "stream",
     "text": [
      "2018-07-12 21:53:48,920 - Yelp_Review_Processor - INFO - Count of samples = 2339048\n",
      "2018-07-12 21:53:53,019 - Yelp_Review_Processor - INFO - samples shuffled\n"
     ]
    }
   ],
   "source": [
    "log.info(\"Count of samples = \"+str(min_reviews*2))\n",
    "\n",
    "random.shuffle(negative_reviews)\n",
    "random.shuffle(positive_reviews)\n",
    "\n",
    "log.info(\"samples shuffled\")\n",
    "\n",
    "train_count=0.6*min_reviews\n",
    "test_count=val_count=0.2*min_reviews"
   ]
  },
  {
   "cell_type": "markdown",
   "metadata": {},
   "source": [
    "## Split into train, test, val "
   ]
  },
  {
   "cell_type": "code",
   "execution_count": 8,
   "metadata": {},
   "outputs": [],
   "source": [
    "x_negative_train = negative_reviews[:int(train_count)]\n",
    "x_negative_test = negative_reviews[len(x_negative_train):len(x_negative_train)+int(test_count)]\n",
    "x_negative_val = negative_reviews[len(x_negative_train)  +  len(x_negative_test):len(x_negative_train)  +  len(x_negative_test)+int(val_count)]\n",
    "\n",
    "\n",
    "x_positive_train = positive_reviews[:int(train_count)]\n",
    "x_positive_test = positive_reviews[len(x_positive_train):len(x_positive_train)+int(test_count)]\n",
    "x_positive_val = positive_reviews[len(x_positive_train)  +  len(x_positive_test):len(x_positive_train)  +  len(x_positive_test) + int(val_count)]"
   ]
  },
  {
   "cell_type": "code",
   "execution_count": 9,
   "metadata": {},
   "outputs": [
    {
     "data": {
      "text/plain": [
       "(701714, 233904, 233904)"
      ]
     },
     "execution_count": 9,
     "metadata": {},
     "output_type": "execute_result"
    }
   ],
   "source": [
    "len(x_negative_train),len(x_negative_test),len(x_negative_val)"
   ]
  },
  {
   "cell_type": "code",
   "execution_count": 10,
   "metadata": {},
   "outputs": [
    {
     "data": {
      "text/plain": [
       "(701714, 233904, 233904)"
      ]
     },
     "execution_count": 10,
     "metadata": {},
     "output_type": "execute_result"
    }
   ],
   "source": [
    "len(x_positive_train),len(x_positive_test),len(x_positive_val)"
   ]
  },
  {
   "cell_type": "code",
   "execution_count": 11,
   "metadata": {},
   "outputs": [],
   "source": [
    "y_negative_train=np.repeat(0,len(x_negative_train))\n",
    "y_negative_test=np.repeat(0,len(x_negative_test))\n",
    "y_negative_val=np.repeat(0,len(x_negative_val))\n",
    "\n",
    "y_positive_train=np.repeat(0,len(x_positive_train))\n",
    "y_positive_test=np.repeat(0,len(x_positive_test))\n",
    "y_positive_val=np.repeat(0,len(x_positive_val))\n",
    "\n",
    "#x_train= np.concatenate((x_negative_train, x_positive_train) )\n",
    "#x_test=  np.concatenate((x_negative_test, x_positive_test) )\n",
    "#x_val=   np.concatenate((x_negative_val, x_positive_val) )\n",
    "\n",
    "x_train_sents = x_negative_train + x_positive_train\n",
    "x_test_sents =  x_negative_test + x_positive_test\n",
    "x_val_sents =  x_negative_val + x_positive_val"
   ]
  },
  {
   "cell_type": "code",
   "execution_count": 12,
   "metadata": {},
   "outputs": [],
   "source": [
    "y_train=np.concatenate((y_negative_train,y_positive_train))\n",
    "y_test=np.concatenate((y_negative_test,y_positive_test))\n",
    "y_val=np.concatenate((y_negative_val,y_positive_val))\n"
   ]
  },
  {
   "cell_type": "code",
   "execution_count": 13,
   "metadata": {},
   "outputs": [],
   "source": [
    "dataset_file=\"F:\\\\nlp\\\\yelp\\\\dataset\\\\yelp_review_binary.npz\"\n",
    "#np.savez(dataset_file,x_train=x_train , x_test=x_test, x_val=x_val,y_train=y_train, y_test=y_test, y_val=y_val)"
   ]
  },
  {
   "cell_type": "markdown",
   "metadata": {},
   "source": [
    "## Prepare vocab"
   ]
  },
  {
   "cell_type": "code",
   "execution_count": 14,
   "metadata": {},
   "outputs": [
    {
     "name": "stdout",
     "output_type": "stream",
     "text": [
      "2018-07-12 21:53:53,293 - Yelp_Review_Processor - INFO - Preparing vocab\n",
      "2018-07-12 21:53:53,505 - Yelp_Review_Processor - INFO - Number of sentences 2339044\n"
     ]
    }
   ],
   "source": [
    "log.info(\"Preparing vocab\")\n",
    "all_sents=x_train_sents+x_test_sents+x_val_sents\n",
    "log.info(\"Number of sentences \" + str(len(all_sents)))\n"
   ]
  },
  {
   "cell_type": "code",
   "execution_count": 15,
   "metadata": {},
   "outputs": [
    {
     "name": "stdout",
     "output_type": "stream",
     "text": [
      "2018-07-12 21:57:28,956 - Yelp_Review_Processor - INFO - Total words = 1328644\n"
     ]
    }
   ],
   "source": [
    "word_counts={}\n",
    "\n",
    "for s in all_sents:\n",
    "    tokens=re.split(\"[\\\\s\\\\.!\\\\?]+\",s);\n",
    "    for t in tokens:\n",
    "        ts=t.lower();\n",
    "        if(ts in word_counts.keys()):\n",
    "            count=word_counts[ts];\n",
    "            count += 1;\n",
    "            word_counts[ts]=count;\n",
    "        else:\n",
    "            word_counts[ts] = 1;\n",
    "log.info(\"Total words = \"+str(len(word_counts.keys())))"
   ]
  },
  {
   "cell_type": "code",
   "execution_count": 16,
   "metadata": {},
   "outputs": [
    {
     "name": "stdout",
     "output_type": "stream",
     "text": [
      "2018-07-12 21:57:31,658 - Yelp_Review_Processor - INFO - Total words in sorted = 1328644\n"
     ]
    }
   ],
   "source": [
    "sorted_touples=sorted(word_counts.items(),  key=lambda x: x[1],reverse=True);\n",
    "\n",
    "sorted_word_count =  OrderedDict(sorted_touples);\n",
    "\n",
    "word_idx=OrderedDict();\n",
    "index=0;\n",
    "for word in sorted_word_count.keys():\n",
    "    word_idx[word]=index;\n",
    "    index+=1;\n",
    "\n",
    "log.info(\"Total words in sorted = \"+str(len(sorted_word_count.keys())))"
   ]
  },
  {
   "cell_type": "code",
   "execution_count": 17,
   "metadata": {},
   "outputs": [],
   "source": [
    "def replace_words_with_indices(sent_list):\n",
    "    ret=[]\n",
    "    for s in sent_list:\n",
    "        tokens = re.split(\"[\\\\s\\\\.!\\\\?]+\", s);\n",
    "        vals = []\n",
    "        for t in tokens:\n",
    "            ts = t.lower();\n",
    "            idx = word_idx[ts]\n",
    "            vals.append(idx)\n",
    "        ret.append(vals)\n",
    "    return ret;"
   ]
  },
  {
   "cell_type": "code",
   "execution_count": 18,
   "metadata": {},
   "outputs": [
    {
     "name": "stdout",
     "output_type": "stream",
     "text": [
      "2018-07-12 21:57:31,678 - Yelp_Review_Processor - INFO - Replacing words with indices\n",
      "2018-07-12 21:59:55,305 - Yelp_Review_Processor - INFO - Done\n"
     ]
    }
   ],
   "source": [
    "log.info(\"Replacing words with indices\")\n",
    "x_train=replace_words_with_indices(x_train_sents)\n",
    "x_test=replace_words_with_indices(x_test_sents)\n",
    "log.info(\"Done\")\n"
   ]
  },
  {
   "cell_type": "code",
   "execution_count": 19,
   "metadata": {},
   "outputs": [
    {
     "name": "stdout",
     "output_type": "stream",
     "text": [
      "2018-07-12 21:59:55,311 - Yelp_Review_Processor - INFO - Saving data\n",
      "2018-07-12 21:59:55,312 - Yelp_Review_Processor - INFO - Done\n"
     ]
    }
   ],
   "source": [
    "log.info(\"Saving data\")\n",
    "npz_dict={'x_train':x_train,'x_test':x_test,'y_train':y_train,'y_test':y_test}\n",
    "np.savez(dataset_file,**npz_dict)\n",
    "log.info(\"Done\")"
   ]
  },
  {
   "cell_type": "code",
   "execution_count": 21,
   "metadata": {},
   "outputs": [],
   "source": [
    "log.info(\"Saving Vocab in JSON\")\n",
    "json_file=getJsonFile()\n",
    "with open(json_file, 'w', encoding=\"utf-8\") as fp:\n",
    "    json.dump(word_idx,fp, indent=4)\n",
    "log.info(\"Done\")    "
   ]
  },
  {
   "cell_type": "code",
   "execution_count": null,
   "metadata": {},
   "outputs": [],
   "source": []
  }
 ],
 "metadata": {
  "kernelspec": {
   "display_name": "Python 3",
   "language": "python",
   "name": "python3"
  },
  "language_info": {
   "codemirror_mode": {
    "name": "ipython",
    "version": 3
   },
   "file_extension": ".py",
   "mimetype": "text/x-python",
   "name": "python",
   "nbconvert_exporter": "python",
   "pygments_lexer": "ipython3",
   "version": "3.6.5"
  }
 },
 "nbformat": 4,
 "nbformat_minor": 1
}
