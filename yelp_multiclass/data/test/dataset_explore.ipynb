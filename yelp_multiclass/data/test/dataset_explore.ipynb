{
 "cells": [
  {
   "cell_type": "code",
   "execution_count": null,
   "metadata": {
    "collapsed": true
   },
   "outputs": [
    {
     "ename": "ImportError",
     "evalue": "cannot import name 'createTextSent'",
     "traceback": [
      "\u001b[1;31m---------------------------------------------------------------------------\u001b[0m",
      "\u001b[1;31mImportError\u001b[0m                               Traceback (most recent call last)",
      "\u001b[1;32m<ipython-input-34-c6a7a412aa32>\u001b[0m in \u001b[0;36m<module>\u001b[1;34m()\u001b[0m\n\u001b[0;32m      4\u001b[0m \u001b[1;32mfrom\u001b[0m \u001b[0myelp_multiclass\u001b[0m\u001b[1;33m.\u001b[0m\u001b[0mdata\u001b[0m\u001b[1;33m.\u001b[0m\u001b[0myelp_dataset\u001b[0m \u001b[1;32mimport\u001b[0m \u001b[0mload_data\u001b[0m\u001b[1;33m\u001b[0m\u001b[0m\n\u001b[0;32m      5\u001b[0m \u001b[1;32mfrom\u001b[0m \u001b[0myelp_multiclass\u001b[0m\u001b[1;33m.\u001b[0m\u001b[0mdata\u001b[0m\u001b[1;33m.\u001b[0m\u001b[0mconfig\u001b[0m \u001b[1;32mimport\u001b[0m \u001b[0mgetModelFile\u001b[0m\u001b[1;33m,\u001b[0m\u001b[0mgetDataFile\u001b[0m\u001b[1;33m,\u001b[0m\u001b[0mgetJsonFile\u001b[0m\u001b[1;33m\u001b[0m\u001b[0m\n\u001b[1;32m----> 6\u001b[1;33m \u001b[1;32mfrom\u001b[0m \u001b[0myelp_multiclass\u001b[0m\u001b[1;33m.\u001b[0m\u001b[0mdata\u001b[0m\u001b[1;33m.\u001b[0m\u001b[0mtextProcess\u001b[0m \u001b[1;32mimport\u001b[0m \u001b[0mtokenizeText\u001b[0m\u001b[1;33m,\u001b[0m\u001b[0mbuildIndexToWordDict\u001b[0m\u001b[1;33m,\u001b[0m\u001b[0mcreateTextSent\u001b[0m\u001b[1;33m,\u001b[0m\u001b[0mcreateNumericSent\u001b[0m\u001b[1;33m\u001b[0m\u001b[0m\n\u001b[0m",
      "\u001b[1;31mImportError\u001b[0m: cannot import name 'createTextSent'"
     ],
     "output_type": "error"
    }
   ],
   "source": [
    "import numpy as np\n",
    "import json\n",
    "import re\n",
    "from yelp_multiclass.data.yelp_dataset import load_data\n",
    "from yelp_multiclass.data.config import getModelFile,getDataFile,getJsonFile\n",
    "from yelp_multiclass.data.textProcess import tokenizeText,buildIndexToWordDict,createTextSent,createNumericSent"
   ]
  },
  {
   "cell_type": "code",
   "execution_count": 6,
   "metadata": {},
   "outputs": [],
   "source": [
    "with open(getJsonFile(), 'r', encoding=\"utf-8\") as fp:\n",
    "    word_idx = json.load(fp)\n",
    " "
   ]
  },
  {
   "cell_type": "code",
   "execution_count": 12,
   "metadata": {},
   "outputs": [
    {
     "name": "stdout",
     "output_type": "stream",
     "text": [
      "['the', 'and', 'i', 'a', 'to', 'was', 'of', 'it', 'for', 'is', 'in', 'we']\n"
     ]
    }
   ],
   "source": [
    "word_idx.keys()\n",
    "test_words=list(word_idx.keys())[:12]\n",
    "print(test_words)"
   ]
  },
  {
   "cell_type": "code",
   "execution_count": 14,
   "metadata": {},
   "outputs": [],
   "source": [
    "negative_review=\" Its a roadside restaurant (pathetic)...its no way a cafe! If u end up visiting...you'll be served disgust! Its a part of some theatre and there's some alien name on the board\"\n",
    "positive_review=\"The food was absolutely wonderful, from preparation to presentation, very pleasing.. especially the veg cheese salad and falafal. Truly a home like taste away from home!!. thumbs up. \""
   ]
  },
  {
   "cell_type": "code",
   "execution_count": 30,
   "metadata": {},
   "outputs": [],
   "source": [
    ""
   ]
  },
  {
   "cell_type": "code",
   "execution_count": 32,
   "metadata": {},
   "outputs": [
    {
     "name": "stdout",
     "output_type": "stream",
     "text": [
      "[18, 213, 4, 19644, 84, 198298, 213, 62, 127, 4, 761, 38, 1220, 416, 57, 1012, 724, 32, 260, 9946, 213, 4, 409, 7, 64, 6490, 2, 423, 64, 16458, 508, 21, 1, 1840]\n"
     ]
    }
   ],
   "source": [
    "num_x=createNumericSent(negative_review,word_idx)\n",
    "print(num_x)"
   ]
  },
  {
   "cell_type": "code",
   "execution_count": 33,
   "metadata": {},
   "outputs": [
    {
     "name": "stdout",
     "output_type": "stream",
     "text": [
      "  its a roadside restaurant (pathetic) its no way a cafe if u end up visiting you'll be served disgust its a part of some theatre and there's some alien name on the board\n"
     ]
    }
   ],
   "source": [
    "idx_word=buildIndexToWordDict(word_idx)\n",
    "print(createTextSent(num_x,idx_word))"
   ]
  },
  {
   "cell_type": "code",
   "execution_count": null,
   "metadata": {},
   "outputs": [],
   "source": []
  }
 ],
 "metadata": {
  "kernelspec": {
   "display_name": "Python 2",
   "language": "python",
   "name": "python2"
  },
  "language_info": {
   "codemirror_mode": {
    "name": "ipython",
    "version": 2
   },
   "file_extension": ".py",
   "mimetype": "text/x-python",
   "name": "python",
   "nbconvert_exporter": "python",
   "pygments_lexer": "ipython2",
   "version": "2.7.6"
  }
 },
 "nbformat": 4,
 "nbformat_minor": 0
}
