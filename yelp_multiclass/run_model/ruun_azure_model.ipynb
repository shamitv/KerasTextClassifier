{
 "cells": [
  {
   "cell_type": "code",
   "execution_count": 10,
   "metadata": {},
   "outputs": [],
   "source": [
    "from __future__ import print_function\n",
    "import numpy as np\n",
    "import tensorflow as tf\n",
    "from time import time\n",
    "import os\n",
    "import json\n",
    "from yelp_multiclass.data.yelp_dataset import load_data\n",
    "from keras.preprocessing import sequence\n",
    "from keras.models import Sequential, load_model\n",
    "from keras.layers import Dense, Dropout, Embedding, LSTM, Bidirectional\n",
    "from keras.callbacks import TensorBoard\n",
    "from IPython.display import SVG\n",
    "from keras.utils.vis_utils import model_to_dot\n",
    "\n",
    "from yelp_multiclass.data.yelp_dataset import load_data\n",
    "from yelp_multiclass.data.config import getModelFile,getDataFile,getJsonFile\n",
    "from yelp_multiclass.data.textProcess import tokenizeText,buildIndexToWordDict,createTextSent,createNumericSent"
   ]
  },
  {
   "cell_type": "code",
   "execution_count": 42,
   "metadata": {},
   "outputs": [],
   "source": [
    "azure_model_path=\"G:/work/nlp/datasets/yelp/yelp_dataset_challenge_round9/keras/dataset/yelp_model_mullticlass.h5\""
   ]
  },
  {
   "cell_type": "code",
   "execution_count": 43,
   "metadata": {
    "scrolled": true
   },
   "outputs": [],
   "source": [
    "azure_model=load_model(azure_model_path)"
   ]
  },
  {
   "cell_type": "code",
   "execution_count": 44,
   "metadata": {},
   "outputs": [
    {
     "data": {
      "image/svg+xml": [
       "<svg height=\"387pt\" viewBox=\"0.00 0.00 444.00 387.00\" width=\"444pt\" xmlns=\"http://www.w3.org/2000/svg\" xmlns:xlink=\"http://www.w3.org/1999/xlink\">\n",
       "<g class=\"graph\" id=\"graph0\" transform=\"scale(1 1) rotate(0) translate(4 383)\">\n",
       "<title>G</title>\n",
       "<polygon fill=\"white\" points=\"-4,4 -4,-383 440,-383 440,4 -4,4\" stroke=\"none\"/>\n",
       "<!-- 2607586752552 -->\n",
       "<g class=\"node\" id=\"node1\"><title>2607586752552</title>\n",
       "<polygon fill=\"none\" points=\"51,-332.5 51,-378.5 385,-378.5 385,-332.5 51,-332.5\" stroke=\"black\"/>\n",
       "<text font-family=\"Times New Roman,serif\" font-size=\"14.00\" text-anchor=\"middle\" x=\"148.5\" y=\"-351.8\">embedding_1_input: InputLayer</text>\n",
       "<polyline fill=\"none\" points=\"246,-332.5 246,-378.5 \" stroke=\"black\"/>\n",
       "<text font-family=\"Times New Roman,serif\" font-size=\"14.00\" text-anchor=\"middle\" x=\"274\" y=\"-363.3\">input:</text>\n",
       "<polyline fill=\"none\" points=\"246,-355.5 302,-355.5 \" stroke=\"black\"/>\n",
       "<text font-family=\"Times New Roman,serif\" font-size=\"14.00\" text-anchor=\"middle\" x=\"274\" y=\"-340.3\">output:</text>\n",
       "<polyline fill=\"none\" points=\"302,-332.5 302,-378.5 \" stroke=\"black\"/>\n",
       "<text font-family=\"Times New Roman,serif\" font-size=\"14.00\" text-anchor=\"middle\" x=\"343.5\" y=\"-363.3\">(None, 100)</text>\n",
       "<polyline fill=\"none\" points=\"302,-355.5 385,-355.5 \" stroke=\"black\"/>\n",
       "<text font-family=\"Times New Roman,serif\" font-size=\"14.00\" text-anchor=\"middle\" x=\"343.5\" y=\"-340.3\">(None, 100)</text>\n",
       "</g>\n",
       "<!-- 2607586752440 -->\n",
       "<g class=\"node\" id=\"node2\"><title>2607586752440</title>\n",
       "<polygon fill=\"none\" points=\"53,-249.5 53,-295.5 383,-295.5 383,-249.5 53,-249.5\" stroke=\"black\"/>\n",
       "<text font-family=\"Times New Roman,serif\" font-size=\"14.00\" text-anchor=\"middle\" x=\"134.5\" y=\"-268.8\">embedding_1: Embedding</text>\n",
       "<polyline fill=\"none\" points=\"216,-249.5 216,-295.5 \" stroke=\"black\"/>\n",
       "<text font-family=\"Times New Roman,serif\" font-size=\"14.00\" text-anchor=\"middle\" x=\"244\" y=\"-280.3\">input:</text>\n",
       "<polyline fill=\"none\" points=\"216,-272.5 272,-272.5 \" stroke=\"black\"/>\n",
       "<text font-family=\"Times New Roman,serif\" font-size=\"14.00\" text-anchor=\"middle\" x=\"244\" y=\"-257.3\">output:</text>\n",
       "<polyline fill=\"none\" points=\"272,-249.5 272,-295.5 \" stroke=\"black\"/>\n",
       "<text font-family=\"Times New Roman,serif\" font-size=\"14.00\" text-anchor=\"middle\" x=\"327.5\" y=\"-280.3\">(None, 100)</text>\n",
       "<polyline fill=\"none\" points=\"272,-272.5 383,-272.5 \" stroke=\"black\"/>\n",
       "<text font-family=\"Times New Roman,serif\" font-size=\"14.00\" text-anchor=\"middle\" x=\"327.5\" y=\"-257.3\">(None, 100, 128)</text>\n",
       "</g>\n",
       "<!-- 2607586752552&#45;&gt;2607586752440 -->\n",
       "<g class=\"edge\" id=\"edge1\"><title>2607586752552-&gt;2607586752440</title>\n",
       "<path d=\"M218,-332.366C218,-324.152 218,-314.658 218,-305.725\" fill=\"none\" stroke=\"black\"/>\n",
       "<polygon fill=\"black\" points=\"221.5,-305.607 218,-295.607 214.5,-305.607 221.5,-305.607\" stroke=\"black\"/>\n",
       "</g>\n",
       "<!-- 2607586645496 -->\n",
       "<g class=\"node\" id=\"node3\"><title>2607586645496</title>\n",
       "<polygon fill=\"none\" points=\"0,-166.5 0,-212.5 436,-212.5 436,-166.5 0,-166.5\" stroke=\"black\"/>\n",
       "<text font-family=\"Times New Roman,serif\" font-size=\"14.00\" text-anchor=\"middle\" x=\"134.5\" y=\"-185.8\">bidirectional_1(lstm_1): Bidirectional(LSTM)</text>\n",
       "<polyline fill=\"none\" points=\"269,-166.5 269,-212.5 \" stroke=\"black\"/>\n",
       "<text font-family=\"Times New Roman,serif\" font-size=\"14.00\" text-anchor=\"middle\" x=\"297\" y=\"-197.3\">input:</text>\n",
       "<polyline fill=\"none\" points=\"269,-189.5 325,-189.5 \" stroke=\"black\"/>\n",
       "<text font-family=\"Times New Roman,serif\" font-size=\"14.00\" text-anchor=\"middle\" x=\"297\" y=\"-174.3\">output:</text>\n",
       "<polyline fill=\"none\" points=\"325,-166.5 325,-212.5 \" stroke=\"black\"/>\n",
       "<text font-family=\"Times New Roman,serif\" font-size=\"14.00\" text-anchor=\"middle\" x=\"380.5\" y=\"-197.3\">(None, 100, 128)</text>\n",
       "<polyline fill=\"none\" points=\"325,-189.5 436,-189.5 \" stroke=\"black\"/>\n",
       "<text font-family=\"Times New Roman,serif\" font-size=\"14.00\" text-anchor=\"middle\" x=\"380.5\" y=\"-174.3\">(None, 256)</text>\n",
       "</g>\n",
       "<!-- 2607586752440&#45;&gt;2607586645496 -->\n",
       "<g class=\"edge\" id=\"edge2\"><title>2607586752440-&gt;2607586645496</title>\n",
       "<path d=\"M218,-249.366C218,-241.152 218,-231.658 218,-222.725\" fill=\"none\" stroke=\"black\"/>\n",
       "<polygon fill=\"black\" points=\"221.5,-222.607 218,-212.607 214.5,-222.607 221.5,-222.607\" stroke=\"black\"/>\n",
       "</g>\n",
       "<!-- 2607586752608 -->\n",
       "<g class=\"node\" id=\"node4\"><title>2607586752608</title>\n",
       "<polygon fill=\"none\" points=\"83.5,-83.5 83.5,-129.5 352.5,-129.5 352.5,-83.5 83.5,-83.5\" stroke=\"black\"/>\n",
       "<text font-family=\"Times New Roman,serif\" font-size=\"14.00\" text-anchor=\"middle\" x=\"148.5\" y=\"-102.8\">dropout_1: Dropout</text>\n",
       "<polyline fill=\"none\" points=\"213.5,-83.5 213.5,-129.5 \" stroke=\"black\"/>\n",
       "<text font-family=\"Times New Roman,serif\" font-size=\"14.00\" text-anchor=\"middle\" x=\"241.5\" y=\"-114.3\">input:</text>\n",
       "<polyline fill=\"none\" points=\"213.5,-106.5 269.5,-106.5 \" stroke=\"black\"/>\n",
       "<text font-family=\"Times New Roman,serif\" font-size=\"14.00\" text-anchor=\"middle\" x=\"241.5\" y=\"-91.3\">output:</text>\n",
       "<polyline fill=\"none\" points=\"269.5,-83.5 269.5,-129.5 \" stroke=\"black\"/>\n",
       "<text font-family=\"Times New Roman,serif\" font-size=\"14.00\" text-anchor=\"middle\" x=\"311\" y=\"-114.3\">(None, 256)</text>\n",
       "<polyline fill=\"none\" points=\"269.5,-106.5 352.5,-106.5 \" stroke=\"black\"/>\n",
       "<text font-family=\"Times New Roman,serif\" font-size=\"14.00\" text-anchor=\"middle\" x=\"311\" y=\"-91.3\">(None, 256)</text>\n",
       "</g>\n",
       "<!-- 2607586645496&#45;&gt;2607586752608 -->\n",
       "<g class=\"edge\" id=\"edge3\"><title>2607586645496-&gt;2607586752608</title>\n",
       "<path d=\"M218,-166.366C218,-158.152 218,-148.658 218,-139.725\" fill=\"none\" stroke=\"black\"/>\n",
       "<polygon fill=\"black\" points=\"221.5,-139.607 218,-129.607 214.5,-139.607 221.5,-139.607\" stroke=\"black\"/>\n",
       "</g>\n",
       "<!-- 2607586754120 -->\n",
       "<g class=\"node\" id=\"node5\"><title>2607586754120</title>\n",
       "<polygon fill=\"none\" points=\"96.5,-0.5 96.5,-46.5 339.5,-46.5 339.5,-0.5 96.5,-0.5\" stroke=\"black\"/>\n",
       "<text font-family=\"Times New Roman,serif\" font-size=\"14.00\" text-anchor=\"middle\" x=\"148.5\" y=\"-19.8\">dense_1: Dense</text>\n",
       "<polyline fill=\"none\" points=\"200.5,-0.5 200.5,-46.5 \" stroke=\"black\"/>\n",
       "<text font-family=\"Times New Roman,serif\" font-size=\"14.00\" text-anchor=\"middle\" x=\"228.5\" y=\"-31.3\">input:</text>\n",
       "<polyline fill=\"none\" points=\"200.5,-23.5 256.5,-23.5 \" stroke=\"black\"/>\n",
       "<text font-family=\"Times New Roman,serif\" font-size=\"14.00\" text-anchor=\"middle\" x=\"228.5\" y=\"-8.3\">output:</text>\n",
       "<polyline fill=\"none\" points=\"256.5,-0.5 256.5,-46.5 \" stroke=\"black\"/>\n",
       "<text font-family=\"Times New Roman,serif\" font-size=\"14.00\" text-anchor=\"middle\" x=\"298\" y=\"-31.3\">(None, 256)</text>\n",
       "<polyline fill=\"none\" points=\"256.5,-23.5 339.5,-23.5 \" stroke=\"black\"/>\n",
       "<text font-family=\"Times New Roman,serif\" font-size=\"14.00\" text-anchor=\"middle\" x=\"298\" y=\"-8.3\">(None, 5)</text>\n",
       "</g>\n",
       "<!-- 2607586752608&#45;&gt;2607586754120 -->\n",
       "<g class=\"edge\" id=\"edge4\"><title>2607586752608-&gt;2607586754120</title>\n",
       "<path d=\"M218,-83.3664C218,-75.1516 218,-65.6579 218,-56.7252\" fill=\"none\" stroke=\"black\"/>\n",
       "<polygon fill=\"black\" points=\"221.5,-56.6068 218,-46.6068 214.5,-56.6069 221.5,-56.6068\" stroke=\"black\"/>\n",
       "</g>\n",
       "</g>\n",
       "</svg>"
      ],
      "text/plain": [
       "<IPython.core.display.SVG object>"
      ]
     },
     "execution_count": 44,
     "metadata": {},
     "output_type": "execute_result"
    }
   ],
   "source": [
    "os.environ[\"PATH\"] += os.pathsep + 'C:\\\\Python\\\\graphviz-2.38\\\\release\\\\bin\\\\'\n",
    "SVG(model_to_dot(azure_model,show_shapes=True).create(prog='dot', format='svg'))"
   ]
  },
  {
   "cell_type": "code",
   "execution_count": 45,
   "metadata": {},
   "outputs": [],
   "source": [
    "negative_review=\" Its a roadside restaurant (pathetic)...its no way a cafe! If u end up visiting...you'll be served disgust! Its a part of some theatre and there's some alien name on the board\"\n",
    "positive_review=\"The food was absolutely wonderful, from preparation to presentation, very pleasing.. especially the veg cheese salad and falafal. Truly a home like taste away from home!!. thumbs up. \""
   ]
  },
  {
   "cell_type": "code",
   "execution_count": 46,
   "metadata": {},
   "outputs": [],
   "source": [
    "with open(getJsonFile(), 'r', encoding=\"utf-8\") as fp:\n",
    "    word_idx = json.load(fp)\n"
   ]
  },
  {
   "cell_type": "code",
   "execution_count": 47,
   "metadata": {},
   "outputs": [],
   "source": [
    "x1=createNumericSent(negative_review,word_idx)\n",
    "x2=createNumericSent(positive_review,word_idx)"
   ]
  },
  {
   "cell_type": "code",
   "execution_count": 48,
   "metadata": {},
   "outputs": [
    {
     "name": "stdout",
     "output_type": "stream",
     "text": [
      "[18, 213, 4, 19644, 84, 198298, 213, 62, 127, 4, 761, 38, 1220, 416, 57, 1012, 724, 32, 260, 9946, 213, 4, 409, 7, 64, 6490, 2, 423, 64, 16458, 508, 21, 1, 1840]\n",
      "[1, 25, 6, 458, 3999, 53, 3578, 5, 5707, 39, 5261, 403, 1, 3149, 149, 165, 2, 33604, 1017, 4, 275, 36, 176, 254, 53, 275, 2805, 57, 18]\n"
     ]
    }
   ],
   "source": [
    "print(x1)\n",
    "print(x2)"
   ]
  },
  {
   "cell_type": "code",
   "execution_count": null,
   "metadata": {},
   "outputs": [],
   "source": []
  },
  {
   "cell_type": "code",
   "execution_count": 49,
   "metadata": {},
   "outputs": [],
   "source": [
    "x=[x1,x2]"
   ]
  },
  {
   "cell_type": "code",
   "execution_count": 50,
   "metadata": {},
   "outputs": [],
   "source": [
    "x = sequence.pad_sequences(x, maxlen=100)"
   ]
  },
  {
   "cell_type": "code",
   "execution_count": 51,
   "metadata": {},
   "outputs": [
    {
     "name": "stdout",
     "output_type": "stream",
     "text": [
      "(2, 100)\n"
     ]
    }
   ],
   "source": [
    "print(x.shape)"
   ]
  },
  {
   "cell_type": "code",
   "execution_count": 52,
   "metadata": {},
   "outputs": [
    {
     "name": "stdout",
     "output_type": "stream",
     "text": [
      "[[     0      0      0      0      0      0      0      0      0      0\n",
      "       0      0      0      0      0      0      0      0      0      0\n",
      "       0      0      0      0      0      0      0      0      0      0\n",
      "       0      0      0      0      0      0      0      0      0      0\n",
      "       0      0      0      0      0      0      0      0      0      0\n",
      "       0      0      0      0      0      0      0      0      0      0\n",
      "       0      0      0      0      0      0     18    213      4  19644\n",
      "      84 198298    213     62    127      4    761     38   1220    416\n",
      "      57   1012    724     32    260   9946    213      4    409      7\n",
      "      64   6490      2    423     64  16458    508     21      1   1840]\n",
      " [     0      0      0      0      0      0      0      0      0      0\n",
      "       0      0      0      0      0      0      0      0      0      0\n",
      "       0      0      0      0      0      0      0      0      0      0\n",
      "       0      0      0      0      0      0      0      0      0      0\n",
      "       0      0      0      0      0      0      0      0      0      0\n",
      "       0      0      0      0      0      0      0      0      0      0\n",
      "       0      0      0      0      0      0      0      0      0      0\n",
      "       0      1     25      6    458   3999     53   3578      5   5707\n",
      "      39   5261    403      1   3149    149    165      2  33604   1017\n",
      "       4    275     36    176    254     53    275   2805     57     18]]\n"
     ]
    }
   ],
   "source": [
    "print(x)"
   ]
  },
  {
   "cell_type": "code",
   "execution_count": 53,
   "metadata": {},
   "outputs": [],
   "source": [
    "res=azure_model.predict(x)"
   ]
  },
  {
   "cell_type": "code",
   "execution_count": 54,
   "metadata": {},
   "outputs": [
    {
     "name": "stdout",
     "output_type": "stream",
     "text": [
      "[[0.19251436 0.18285888 0.18462743 0.2081111  0.23188816]\n",
      " [0.19510584 0.18362617 0.18521215 0.20633861 0.22971721]]\n"
     ]
    }
   ],
   "source": [
    "print(res)"
   ]
  },
  {
   "cell_type": "code",
   "execution_count": 56,
   "metadata": {},
   "outputs": [
    {
     "name": "stdout",
     "output_type": "stream",
     "text": [
      "4\n"
     ]
    }
   ],
   "source": [
    "print(np.argmax(res[0]))"
   ]
  },
  {
   "cell_type": "code",
   "execution_count": 57,
   "metadata": {},
   "outputs": [
    {
     "name": "stdout",
     "output_type": "stream",
     "text": [
      "4\n"
     ]
    }
   ],
   "source": [
    "print(np.argmax(res[1]))"
   ]
  },
  {
   "cell_type": "code",
   "execution_count": null,
   "metadata": {},
   "outputs": [],
   "source": []
  }
 ],
 "metadata": {
  "kernelspec": {
   "display_name": "Python 3",
   "language": "python",
   "name": "python3"
  },
  "language_info": {
   "codemirror_mode": {
    "name": "ipython",
    "version": 3
   },
   "file_extension": ".py",
   "mimetype": "text/x-python",
   "name": "python",
   "nbconvert_exporter": "python",
   "pygments_lexer": "ipython3",
   "version": "3.6.4"
  }
 },
 "nbformat": 4,
 "nbformat_minor": 2
}
