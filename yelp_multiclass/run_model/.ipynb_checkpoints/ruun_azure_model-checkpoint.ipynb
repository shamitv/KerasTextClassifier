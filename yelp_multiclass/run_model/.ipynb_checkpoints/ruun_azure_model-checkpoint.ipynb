{
 "cells": [
  {
   "cell_type": "code",
   "execution_count": 10,
   "metadata": {},
   "outputs": [],
   "source": [
    "from __future__ import print_function\n",
    "import numpy as np\n",
    "import tensorflow as tf\n",
    "from time import time\n",
    "import os\n",
    "import json\n",
    "from yelp_multiclass.data.yelp_dataset import load_data\n",
    "from keras.preprocessing import sequence\n",
    "from keras.models import Sequential, load_model\n",
    "from keras.layers import Dense, Dropout, Embedding, LSTM, Bidirectional\n",
    "from keras.callbacks import TensorBoard\n",
    "from IPython.display import SVG\n",
    "from keras.utils.vis_utils import model_to_dot\n",
    "\n",
    "from yelp_multiclass.data.yelp_dataset import load_data\n",
    "from yelp_multiclass.data.config import getModelFile,getDataFile,getJsonFile\n",
    "from yelp_multiclass.data.textProcess import tokenizeText,buildIndexToWordDict,createTextSent,createNumericSent"
   ]
  },
  {
   "cell_type": "code",
   "execution_count": 5,
   "metadata": {},
   "outputs": [],
   "source": [
    "azure_model_path=\"G:/work/nlp/datasets/yelp/yelp_dataset_challenge_round9/keras/model_from_azure_12_epoch/yelp_lstm.h5\""
   ]
  },
  {
   "cell_type": "code",
   "execution_count": 6,
   "metadata": {},
   "outputs": [],
   "source": [
    "azure_model=load_model(azure_model_path)"
   ]
  },
  {
   "cell_type": "code",
   "execution_count": 7,
   "metadata": {},
   "outputs": [
    {
     "data": {
      "image/svg+xml": [
       "<svg height=\"337pt\" viewBox=\"0.00 0.00 277.00 337.00\" width=\"277pt\" xmlns=\"http://www.w3.org/2000/svg\" xmlns:xlink=\"http://www.w3.org/1999/xlink\">\n",
       "<g class=\"graph\" id=\"graph0\" transform=\"scale(1 1) rotate(0) translate(4 333)\">\n",
       "<title>G</title>\n",
       "<polygon fill=\"white\" points=\"-4,4 -4,-333 273,-333 273,4 -4,4\" stroke=\"none\"/>\n",
       "<!-- 2607209005632 -->\n",
       "<g class=\"node\" id=\"node1\"><title>2607209005632</title>\n",
       "<polygon fill=\"none\" points=\"37,-292.5 37,-328.5 232,-328.5 232,-292.5 37,-292.5\" stroke=\"black\"/>\n",
       "<text font-family=\"Times New Roman,serif\" font-size=\"14.00\" text-anchor=\"middle\" x=\"134.5\" y=\"-306.8\">embedding_1_input: InputLayer</text>\n",
       "</g>\n",
       "<!-- 2607209005688 -->\n",
       "<g class=\"node\" id=\"node2\"><title>2607209005688</title>\n",
       "<polygon fill=\"none\" points=\"53,-219.5 53,-255.5 216,-255.5 216,-219.5 53,-219.5\" stroke=\"black\"/>\n",
       "<text font-family=\"Times New Roman,serif\" font-size=\"14.00\" text-anchor=\"middle\" x=\"134.5\" y=\"-233.8\">embedding_1: Embedding</text>\n",
       "</g>\n",
       "<!-- 2607209005632&#45;&gt;2607209005688 -->\n",
       "<g class=\"edge\" id=\"edge1\"><title>2607209005632-&gt;2607209005688</title>\n",
       "<path d=\"M134.5,-292.313C134.5,-284.289 134.5,-274.547 134.5,-265.569\" fill=\"none\" stroke=\"black\"/>\n",
       "<polygon fill=\"black\" points=\"138,-265.529 134.5,-255.529 131,-265.529 138,-265.529\" stroke=\"black\"/>\n",
       "</g>\n",
       "<!-- 2605864627112 -->\n",
       "<g class=\"node\" id=\"node3\"><title>2605864627112</title>\n",
       "<polygon fill=\"none\" points=\"0,-146.5 0,-182.5 269,-182.5 269,-146.5 0,-146.5\" stroke=\"black\"/>\n",
       "<text font-family=\"Times New Roman,serif\" font-size=\"14.00\" text-anchor=\"middle\" x=\"134.5\" y=\"-160.8\">bidirectional_1(lstm_1): Bidirectional(LSTM)</text>\n",
       "</g>\n",
       "<!-- 2607209005688&#45;&gt;2605864627112 -->\n",
       "<g class=\"edge\" id=\"edge2\"><title>2607209005688-&gt;2605864627112</title>\n",
       "<path d=\"M134.5,-219.313C134.5,-211.289 134.5,-201.547 134.5,-192.569\" fill=\"none\" stroke=\"black\"/>\n",
       "<polygon fill=\"black\" points=\"138,-192.529 134.5,-182.529 131,-192.529 138,-192.529\" stroke=\"black\"/>\n",
       "</g>\n",
       "<!-- 2607209006584 -->\n",
       "<g class=\"node\" id=\"node4\"><title>2607209006584</title>\n",
       "<polygon fill=\"none\" points=\"69.5,-73.5 69.5,-109.5 199.5,-109.5 199.5,-73.5 69.5,-73.5\" stroke=\"black\"/>\n",
       "<text font-family=\"Times New Roman,serif\" font-size=\"14.00\" text-anchor=\"middle\" x=\"134.5\" y=\"-87.8\">dropout_1: Dropout</text>\n",
       "</g>\n",
       "<!-- 2605864627112&#45;&gt;2607209006584 -->\n",
       "<g class=\"edge\" id=\"edge3\"><title>2605864627112-&gt;2607209006584</title>\n",
       "<path d=\"M134.5,-146.313C134.5,-138.289 134.5,-128.547 134.5,-119.569\" fill=\"none\" stroke=\"black\"/>\n",
       "<polygon fill=\"black\" points=\"138,-119.529 134.5,-109.529 131,-119.529 138,-119.529\" stroke=\"black\"/>\n",
       "</g>\n",
       "<!-- 2607209005968 -->\n",
       "<g class=\"node\" id=\"node5\"><title>2607209005968</title>\n",
       "<polygon fill=\"none\" points=\"82.5,-0.5 82.5,-36.5 186.5,-36.5 186.5,-0.5 82.5,-0.5\" stroke=\"black\"/>\n",
       "<text font-family=\"Times New Roman,serif\" font-size=\"14.00\" text-anchor=\"middle\" x=\"134.5\" y=\"-14.8\">dense_1: Dense</text>\n",
       "</g>\n",
       "<!-- 2607209006584&#45;&gt;2607209005968 -->\n",
       "<g class=\"edge\" id=\"edge4\"><title>2607209006584-&gt;2607209005968</title>\n",
       "<path d=\"M134.5,-73.3129C134.5,-65.2895 134.5,-55.5475 134.5,-46.5691\" fill=\"none\" stroke=\"black\"/>\n",
       "<polygon fill=\"black\" points=\"138,-46.5288 134.5,-36.5288 131,-46.5289 138,-46.5288\" stroke=\"black\"/>\n",
       "</g>\n",
       "</g>\n",
       "</svg>"
      ],
      "text/plain": [
       "<IPython.core.display.SVG object>"
      ]
     },
     "execution_count": 7,
     "metadata": {},
     "output_type": "execute_result"
    }
   ],
   "source": [
    "os.environ[\"PATH\"] += os.pathsep + 'C:\\\\Python\\\\graphviz-2.38\\\\release\\\\bin\\\\'\n",
    "SVG(model_to_dot(azure_model).create(prog='dot', format='svg'))"
   ]
  },
  {
   "cell_type": "code",
   "execution_count": 8,
   "metadata": {},
   "outputs": [],
   "source": [
    "negative_review=\" Its a roadside restaurant (pathetic)...its no way a cafe! If u end up visiting...you'll be served disgust! Its a part of some theatre and there's some alien name on the board\"\n",
    "positive_review=\"The food was absolutely wonderful, from preparation to presentation, very pleasing.. especially the veg cheese salad and falafal. Truly a home like taste away from home!!. thumbs up. \""
   ]
  },
  {
   "cell_type": "code",
   "execution_count": 11,
   "metadata": {},
   "outputs": [],
   "source": [
    "with open(getJsonFile(), 'r', encoding=\"utf-8\") as fp:\n",
    "    word_idx = json.load(fp)\n"
   ]
  },
  {
   "cell_type": "code",
   "execution_count": 12,
   "metadata": {},
   "outputs": [],
   "source": [
    "x1=createNumericSent(negative_review,word_idx)"
   ]
  },
  {
   "cell_type": "code",
   "execution_count": 13,
   "metadata": {},
   "outputs": [
    {
     "name": "stdout",
     "output_type": "stream",
     "text": [
      "[18, 213, 4, 19644, 84, 198298, 213, 62, 127, 4, 761, 38, 1220, 416, 57, 1012, 724, 32, 260, 9946, 213, 4, 409, 7, 64, 6490, 2, 423, 64, 16458, 508, 21, 1, 1840]\n"
     ]
    }
   ],
   "source": [
    "print(x1)"
   ]
  },
  {
   "cell_type": "code",
   "execution_count": null,
   "metadata": {},
   "outputs": [],
   "source": [
    "x1=np."
   ]
  }
 ],
 "metadata": {
  "kernelspec": {
   "display_name": "Python 3",
   "language": "python",
   "name": "python3"
  },
  "language_info": {
   "codemirror_mode": {
    "name": "ipython",
    "version": 3
   },
   "file_extension": ".py",
   "mimetype": "text/x-python",
   "name": "python",
   "nbconvert_exporter": "python",
   "pygments_lexer": "ipython3",
   "version": "3.6.4"
  }
 },
 "nbformat": 4,
 "nbformat_minor": 2
}
